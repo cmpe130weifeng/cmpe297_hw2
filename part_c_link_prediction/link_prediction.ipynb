{
  "nbformat": 4,
  "nbformat_minor": 0,
  "metadata": {
    "colab": {
      "provenance": [],
      "collapsed_sections": []
    },
    "kernelspec": {
      "name": "python3",
      "display_name": "Python 3"
    },
    "language_info": {
      "name": "python"
    }
  },
  "cells": [
    {
      "cell_type": "code",
      "source": [
        "!pip install dgl"
      ],
      "metadata": {
        "colab": {
          "base_uri": "https://localhost:8080/",
          "height": 215
        },
        "id": "3fOcv2TNbMfS",
        "outputId": "081ac314-2f8b-49aa-88c9-9150551a45cd"
      },
      "execution_count": 4,
      "outputs": [
        {
          "output_type": "stream",
          "name": "stdout",
          "text": [
            "Installing collected packages: psutil, dgl\n",
            "  Attempting uninstall: psutil\n",
            "    Found existing installation: psutil 5.4.8\n",
            "    Uninstalling psutil-5.4.8:\n",
            "      Successfully uninstalled psutil-5.4.8\n",
            "Successfully installed dgl-0.9.1 psutil-5.9.3\n"
          ]
        },
        {
          "output_type": "display_data",
          "data": {
            "application/vnd.colab-display-data+json": {
              "pip_warning": {
                "packages": [
                  "psutil"
                ]
              }
            }
          },
          "metadata": {}
        }
      ]
    },
    {
      "cell_type": "code",
      "execution_count": 1,
      "metadata": {
        "colab": {
          "base_uri": "https://localhost:8080/"
        },
        "id": "uen-XphgSSZo",
        "outputId": "154a8378-54f7-4704-d0e0-3523c4bcd7fb"
      },
      "outputs": [
        {
          "output_type": "stream",
          "name": "stdout",
          "text": [
            "1.12.1+cu113\n",
            "\u001b[K     |████████████████████████████████| 7.9 MB 2.8 MB/s \n",
            "\u001b[K     |████████████████████████████████| 3.5 MB 2.8 MB/s \n",
            "\u001b[?25h  Building wheel for torch-geometric (setup.py) ... \u001b[?25l\u001b[?25hdone\n"
          ]
        }
      ],
      "source": [
        "import os # for interact with system\n",
        "import torch # pytorch\n",
        "os.environ['TORCH'] = torch.__version__\n",
        "print(torch.__version__) # check what version of pytorch\n",
        "\n",
        "# install libaries for pytorch geometric\n",
        "!pip install -q torch-scatter -f https://data.pyg.org/whl/torch-${TORCH}.html\n",
        "!pip install -q torch-sparse -f https://data.pyg.org/whl/torch-${TORCH}.html\n",
        "!pip install -q git+https://github.com/pyg-team/pytorch_geometric.git"
      ]
    },
    {
      "cell_type": "code",
      "source": [
        "import dgl # it provides graph dataset to work with\n",
        "import torch.nn as nn\n",
        "import torch.nn.functional as F\n",
        "import itertools\n",
        "import numpy as np\n",
        "import scipy.sparse as sp"
      ],
      "metadata": {
        "colab": {
          "base_uri": "https://localhost:8080/"
        },
        "id": "Rw3-hcvpSlFn",
        "outputId": "834090ed-6a9c-4c63-a66d-5dfe24630459"
      },
      "execution_count": 5,
      "outputs": [
        {
          "output_type": "stream",
          "name": "stderr",
          "text": [
            "DGL backend not selected or invalid.  Assuming PyTorch for now.\n"
          ]
        },
        {
          "output_type": "stream",
          "name": "stdout",
          "text": [
            "Setting the default backend to \"pytorch\". You can change it in the ~/.dgl/config.json file or export the DGLBACKEND environment variable.  Valid options are: pytorch, mxnet, tensorflow (all lowercase)\n"
          ]
        }
      ]
    },
    {
      "cell_type": "markdown",
      "source": [
        "In graph neural network(GNN), link/edge level prediction means to find a connection between two nodes. </br>\n",
        "There are some important notes to do link prediction: </br>\n",
        "1. select graph's existing edges as positive sample(s)\n",
        "2. select graph's non-existing edges as negative sample(s)\n",
        "3. positive sample = training set; negative sample = testing set\n",
        "4. In evaluation, we can use AUC to check the performance of the model.\n",
        "\n"
      ],
      "metadata": {
        "id": "xBiOZ12oZG7I"
      }
    },
    {
      "cell_type": "code",
      "source": [
        "import dgl.data\n",
        "dataset = dgl.data.CoraGraphDataset() # dataset contains graph list\n",
        "g = dataset[0] # select a single graph"
      ],
      "metadata": {
        "colab": {
          "base_uri": "https://localhost:8080/"
        },
        "id": "S4a77jQ9SlCw",
        "outputId": "9796129b-a3d9-40aa-ae37-e798b13302d9"
      },
      "execution_count": 6,
      "outputs": [
        {
          "output_type": "stream",
          "name": "stdout",
          "text": [
            "Downloading /root/.dgl/cora_v2.zip from https://data.dgl.ai/dataset/cora_v2.zip...\n",
            "Extracting file to /root/.dgl/cora_v2\n",
            "Finished data loading and preprocessing.\n",
            "  NumNodes: 2708\n",
            "  NumEdges: 10556\n",
            "  NumFeats: 1433\n",
            "  NumClasses: 7\n",
            "  NumTrainingSamples: 140\n",
            "  NumValidationSamples: 500\n",
            "  NumTestSamples: 1000\n",
            "Done saving data into cached files.\n"
          ]
        }
      ]
    },
    {
      "cell_type": "code",
      "source": [
        "# split data into training set and testing set\n",
        "u, v = g.edges()\n",
        "eids = np.arange(g.number_of_edges())\n",
        "eids = np.random.permutation(eids)\n",
        "test_size = int(len(eids) * 0.1) \n",
        "train_size = g.number_of_edges() \n",
        "test_pos_u, test_pos_v = u[eids[:test_size]], v[eids[:test_size]]\n",
        "train_pos_u, train_pos_v = u[eids[test_size:]], v[eids[test_size:]]"
      ],
      "metadata": {
        "id": "k90mKrjESk_3"
      },
      "execution_count": 7,
      "outputs": []
    },
    {
      "cell_type": "code",
      "source": [
        "# check test positve sample\n",
        "test_pos_u"
      ],
      "metadata": {
        "colab": {
          "base_uri": "https://localhost:8080/"
        },
        "id": "H25FhP5bc6W3",
        "outputId": "80b59e7e-eea4-48bd-87d7-92bd253090b6"
      },
      "execution_count": 8,
      "outputs": [
        {
          "output_type": "execute_result",
          "data": {
            "text/plain": [
              "tensor([ 889, 1441,  385,  ..., 2166,  783,  154])"
            ]
          },
          "metadata": {},
          "execution_count": 8
        }
      ]
    },
    {
      "cell_type": "code",
      "source": [
        "test_pos_v"
      ],
      "metadata": {
        "colab": {
          "base_uri": "https://localhost:8080/"
        },
        "id": "dkWQs7R3dEKi",
        "outputId": "5c1c23ff-8db4-4caf-bdf9-44855f5a6eef"
      },
      "execution_count": 10,
      "outputs": [
        {
          "output_type": "execute_result",
          "data": {
            "text/plain": [
              "tensor([1830,  371, 2483,  ..., 1029,  638, 1444])"
            ]
          },
          "metadata": {},
          "execution_count": 10
        }
      ]
    },
    {
      "cell_type": "code",
      "source": [
        "# check training positve sample\n",
        "train_pos_u"
      ],
      "metadata": {
        "colab": {
          "base_uri": "https://localhost:8080/"
        },
        "id": "kZEnBJZDc8e5",
        "outputId": "e29defa1-2a2c-4eea-f15c-e7d2632a0747"
      },
      "execution_count": 11,
      "outputs": [
        {
          "output_type": "execute_result",
          "data": {
            "text/plain": [
              "tensor([289, 670, 507,  ..., 408,  51, 102])"
            ]
          },
          "metadata": {},
          "execution_count": 11
        }
      ]
    },
    {
      "cell_type": "code",
      "source": [
        "# collect all negative samples\n",
        "adj = sp.coo_matrix((np.ones(len(u)), (u.numpy(), v.numpy())))\n",
        "adj_neg = 1 - adj.todense() - np.eye(g.number_of_nodes())\n",
        "neg_u, neg_v = np.where(adj_neg != 0)"
      ],
      "metadata": {
        "id": "oA0a1WAeSk88"
      },
      "execution_count": 13,
      "outputs": []
    },
    {
      "cell_type": "code",
      "source": [
        "neg_eids = np.random.choice(len(neg_u), g.number_of_edges() // 2)\n",
        "test_neg_u, test_neg_v = neg_u[neg_eids[:test_size]], neg_v[neg_eids[:test_size]]\n",
        "train_neg_u, train_neg_v = neg_u[neg_eids[test_size:]], neg_v[neg_eids[test_size:]]"
      ],
      "metadata": {
        "id": "T-ED5o4BSk6D"
      },
      "execution_count": 14,
      "outputs": []
    },
    {
      "cell_type": "markdown",
      "source": [
        "Positve data: are data would not causing warrning; negative data would causing warrning. </br>\n",
        "Accuracy = true warring y(label) / predicted warrning y\n"
      ],
      "metadata": {
        "id": "spcvPRKqyuET"
      }
    },
    {
      "cell_type": "code",
      "source": [
        "# check negative sample\n",
        "train_neg_u"
      ],
      "metadata": {
        "colab": {
          "base_uri": "https://localhost:8080/"
        },
        "id": "Fp3adpnCSk3K",
        "outputId": "9d3ecde7-e2ff-44bb-9234-d4acf900866b"
      },
      "execution_count": 15,
      "outputs": [
        {
          "output_type": "execute_result",
          "data": {
            "text/plain": [
              "array([1030, 1021,  121, ...,  509, 2422, 1079])"
            ]
          },
          "metadata": {},
          "execution_count": 15
        }
      ]
    },
    {
      "cell_type": "code",
      "source": [
        "# when we training the model, we need to remove 10% of traing sample\n",
        "# the purpose is to prevent data leakage\n",
        "train_g = dgl.remove_edges(g, eids[:test_size])"
      ],
      "metadata": {
        "id": "AxbHQW3ESk0Q"
      },
      "execution_count": 16,
      "outputs": []
    },
    {
      "cell_type": "markdown",
      "source": [
        "GraphSage is a tool for graph embedding. \n",
        "![image.png](data:image/png;base64,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)"
      ],
      "metadata": {
        "id": "hyzgcMPaekOh"
      }
    },
    {
      "cell_type": "markdown",
      "source": [
        "h is embedding; hv = self-message; hu = neighbors messages; W just transformation; AGG = Graph aggregation; CON = concatenate "
      ],
      "metadata": {
        "id": "zeBFFDxyfUHv"
      }
    },
    {
      "cell_type": "code",
      "source": [
        "# define a two layers GraphSage model\n",
        "from dgl.nn import SAGEConv\n",
        "\n",
        "class GraphSAGE(nn.Module):\n",
        "    def __init__(self, in_feats, h_feats):\n",
        "        super(GraphSAGE, self).__init__()\n",
        "        self.conv1 = SAGEConv(in_feats, h_feats, 'mean')\n",
        "        self.conv2 = SAGEConv(h_feats, h_feats, 'mean')\n",
        "\n",
        "    def forward(self, g, in_feat):\n",
        "        h = self.conv1(g, in_feat)\n",
        "        h = F.relu(h)\n",
        "        h = self.conv2(g, h)\n",
        "        return h"
      ],
      "metadata": {
        "id": "6JA7DBqYSkxc"
      },
      "execution_count": 17,
      "outputs": []
    },
    {
      "cell_type": "markdown",
      "source": [
        "what we need to do is to predict an edge's point between two nodes. Based on the point/score, we can determine wheater an edge exists between two nodes or not; in other words, we try to find characterization of an edge."
      ],
      "metadata": {
        "id": "hH91okDFgLQj"
      }
    },
    {
      "cell_type": "markdown",
      "source": [
        "dgl.graph conversion: we need to convert pistive samples and negative samples into dgl.graph format, so that it's easier to compute."
      ],
      "metadata": {
        "id": "mshJ-mGf0E9t"
      }
    },
    {
      "cell_type": "code",
      "source": [
        "train_pos_g = dgl.graph((train_pos_u, train_pos_v), num_nodes=g.number_of_nodes())\n",
        "train_neg_g = dgl.graph((train_neg_u, train_neg_v), num_nodes=g.number_of_nodes())\n",
        "\n",
        "test_pos_g = dgl.graph((test_pos_u, test_pos_v), num_nodes=g.number_of_nodes())\n",
        "test_neg_g = dgl.graph((test_neg_u, test_neg_v), num_nodes=g.number_of_nodes())"
      ],
      "metadata": {
        "id": "GSCW3bXXSku6"
      },
      "execution_count": 18,
      "outputs": []
    },
    {
      "cell_type": "markdown",
      "source": [
        "In order to compute the point/score between nodes, we need to define a function. (or we can directly use pre-defined funciton from: https://docs.dgl.ai/tutorials/blitz/5_graph_classification.html#sphx-glr-tutorials-blitz-5-graph-classification-py)"
      ],
      "metadata": {
        "id": "XowQY0oB1YW2"
      }
    },
    {
      "cell_type": "code",
      "source": [
        "import dgl.function as fn\n",
        "\n",
        "class DotPredictor(nn.Module):\n",
        "    def forward(self, g, h):\n",
        "        with g.local_scope():\n",
        "            g.ndata['h'] = h\n",
        "            # use dot product, find similarity score between source's h(embedding) and target's \n",
        "            g.apply_edges(fn.u_dot_v('h', 'h', 'score'))\n",
        "            # we need to reduce dimension\n",
        "            return g.edata['score'][:, 0]"
      ],
      "metadata": {
        "id": "XtRaj-9ISksO"
      },
      "execution_count": 19,
      "outputs": []
    },
    {
      "cell_type": "code",
      "source": [
        "model = GraphSAGE(train_g.ndata['feat'].shape[1], 16)"
      ],
      "metadata": {
        "id": "JbRXP2pB292V"
      },
      "execution_count": 21,
      "outputs": []
    },
    {
      "cell_type": "code",
      "source": [
        "# prediction\n",
        "pred = DotPredictor()"
      ],
      "metadata": {
        "id": "BGHt-HX53Cvf"
      },
      "execution_count": 23,
      "outputs": []
    },
    {
      "cell_type": "code",
      "source": [
        "optimizer = torch.optim.Adam(itertools.chain(model.parameters(), pred.parameters()), lr=0.01)"
      ],
      "metadata": {
        "id": "_qdbJciX2hD5"
      },
      "execution_count": 24,
      "outputs": []
    },
    {
      "cell_type": "code",
      "source": [
        "# entropy loss\n",
        "def compute_loss(pos_score, neg_score):\n",
        "    scores = torch.cat([pos_score, neg_score])\n",
        "    labels = torch.cat([torch.ones(pos_score.shape[0]), torch.zeros(neg_score.shape[0])])\n",
        "    return F.binary_cross_entropy_with_logits(scores, labels)\n",
        "\n",
        "# compute Area under the curve score\n",
        "def compute_auc(pos_score, neg_score):\n",
        "    scores = torch.cat([pos_score, neg_score]).numpy()\n",
        "    labels = torch.cat(\n",
        "        [torch.ones(pos_score.shape[0]), torch.zeros(neg_score.shape[0])]).numpy()\n",
        "    return roc_auc_score(labels, scores)"
      ],
      "metadata": {
        "id": "5gAuAF5y3Hhx"
      },
      "execution_count": 25,
      "outputs": []
    },
    {
      "cell_type": "code",
      "source": [
        "all_logits = []\n",
        "for e in range(100):\n",
        "    # forward \n",
        "    h = model(train_g, train_g.ndata['feat'])\n",
        "    pos_score = pred(train_pos_g, h)\n",
        "    neg_score = pred(train_neg_g, h)\n",
        "    loss = compute_loss(pos_score, neg_score)\n",
        "\n",
        "    # backpropagation\n",
        "    optimizer.zero_grad()\n",
        "    loss.backward()\n",
        "    optimizer.step()\n",
        "\n",
        "    if e % 5 == 0:\n",
        "        print('In epoch {}, loss: {}'.format(e, loss))\n",
        "\n",
        "# print the preformance\n",
        "from sklearn.metrics import roc_auc_score\n",
        "with torch.no_grad():\n",
        "    pos_score = pred(test_pos_g, h)\n",
        "    neg_score = pred(test_neg_g, h)\n",
        "    print('AUC', compute_auc(pos_score, neg_score))"
      ],
      "metadata": {
        "colab": {
          "base_uri": "https://localhost:8080/"
        },
        "id": "eUrjB2dQSkpd",
        "outputId": "8134c707-92de-4f0d-aefe-8ddc45761964"
      },
      "execution_count": 26,
      "outputs": [
        {
          "output_type": "stream",
          "name": "stderr",
          "text": [
            "/usr/local/lib/python3.7/dist-packages/torch/amp/autocast_mode.py:198: UserWarning: User provided device_type of 'cuda', but CUDA is not available. Disabling\n",
            "  warnings.warn('User provided device_type of \\'cuda\\', but CUDA is not available. Disabling')\n"
          ]
        },
        {
          "output_type": "stream",
          "name": "stdout",
          "text": [
            "In epoch 0, loss: 0.6926373243331909\n",
            "In epoch 5, loss: 0.6263169646263123\n",
            "In epoch 10, loss: 0.6049462556838989\n",
            "In epoch 15, loss: 0.578560471534729\n",
            "In epoch 20, loss: 0.5326451659202576\n",
            "In epoch 25, loss: 0.4657936692237854\n",
            "In epoch 30, loss: 0.41471266746520996\n",
            "In epoch 35, loss: 0.36714237928390503\n",
            "In epoch 40, loss: 0.3382253348827362\n",
            "In epoch 45, loss: 0.30784401297569275\n",
            "In epoch 50, loss: 0.2805817425251007\n",
            "In epoch 55, loss: 0.2601359486579895\n",
            "In epoch 60, loss: 0.2385009080171585\n",
            "In epoch 65, loss: 0.21912777423858643\n",
            "In epoch 70, loss: 0.20076051354408264\n",
            "In epoch 75, loss: 0.18232424557209015\n",
            "In epoch 80, loss: 0.1645982414484024\n",
            "In epoch 85, loss: 0.1476486325263977\n",
            "In epoch 90, loss: 0.131202831864357\n",
            "In epoch 95, loss: 0.11558180302381516\n",
            "AUC 0.8727333168617057\n"
          ]
        }
      ]
    },
    {
      "cell_type": "code",
      "source": [],
      "metadata": {
        "id": "VdKikGXKSkmJ"
      },
      "execution_count": null,
      "outputs": []
    },
    {
      "cell_type": "code",
      "source": [],
      "metadata": {
        "id": "4Z-IEfj1Skjq"
      },
      "execution_count": null,
      "outputs": []
    },
    {
      "cell_type": "code",
      "source": [],
      "metadata": {
        "id": "bdOs4_wdSkg3"
      },
      "execution_count": null,
      "outputs": []
    },
    {
      "cell_type": "code",
      "source": [],
      "metadata": {
        "id": "19V-pcbpSkeP"
      },
      "execution_count": null,
      "outputs": []
    },
    {
      "cell_type": "code",
      "source": [],
      "metadata": {
        "id": "juCCOgbbSkbl"
      },
      "execution_count": null,
      "outputs": []
    },
    {
      "cell_type": "code",
      "source": [],
      "metadata": {
        "id": "4HGQf69_SkYy"
      },
      "execution_count": null,
      "outputs": []
    },
    {
      "cell_type": "code",
      "source": [],
      "metadata": {
        "id": "ghLhO2mTSkWG"
      },
      "execution_count": null,
      "outputs": []
    },
    {
      "cell_type": "code",
      "source": [],
      "metadata": {
        "id": "Kc-Fsei6SkTW"
      },
      "execution_count": null,
      "outputs": []
    },
    {
      "cell_type": "code",
      "source": [],
      "metadata": {
        "id": "dv0Gspe0SkQx"
      },
      "execution_count": null,
      "outputs": []
    },
    {
      "cell_type": "code",
      "source": [],
      "metadata": {
        "id": "Htow-yy_SkOM"
      },
      "execution_count": null,
      "outputs": []
    },
    {
      "cell_type": "code",
      "source": [],
      "metadata": {
        "id": "IOWB_EHySkLT"
      },
      "execution_count": null,
      "outputs": []
    },
    {
      "cell_type": "code",
      "source": [],
      "metadata": {
        "id": "la4KkMKlSkIs"
      },
      "execution_count": null,
      "outputs": []
    }
  ]
}