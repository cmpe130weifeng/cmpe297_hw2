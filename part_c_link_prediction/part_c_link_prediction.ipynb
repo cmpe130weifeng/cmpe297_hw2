{
  "cells": [
    {
      "cell_type": "markdown",
      "source": [
        "Ref: https://www.youtube.com/watch?v=m1G7oS9hmwE"
      ],
      "metadata": {
        "id": "hz--O0BwciEo"
      }
    },
    {
      "cell_type": "code",
      "execution_count": 1,
      "metadata": {
        "id": "ytRwUmJ9AZw4",
        "colab": {
          "base_uri": "https://localhost:8080/"
        },
        "outputId": "bbd83edc-d5db-403d-ab71-8b5d7c63ab25"
      },
      "outputs": [
        {
          "output_type": "stream",
          "name": "stdout",
          "text": [
            "1.12.1+cu113\n",
            "\u001b[K     |████████████████████████████████| 7.9 MB 2.9 MB/s \n",
            "\u001b[K     |████████████████████████████████| 3.5 MB 3.0 MB/s \n",
            "\u001b[?25h  Building wheel for torch-geometric (setup.py) ... \u001b[?25l\u001b[?25hdone\n"
          ]
        }
      ],
      "source": [
        "# same libs\n",
        "import os\n",
        "import torch\n",
        "os.environ['TORCH'] = torch.__version__\n",
        "print(torch.__version__)\n",
        "\n",
        "!pip install -q torch-scatter -f https://data.pyg.org/whl/torch-${TORCH}.html\n",
        "!pip install -q torch-sparse -f https://data.pyg.org/whl/torch-${TORCH}.html\n",
        "!pip install -q git+https://github.com/pyg-team/pytorch_geometric.git"
      ]
    },
    {
      "cell_type": "markdown",
      "metadata": {
        "id": "XxldjEbJCYeG"
      },
      "source": [
        "edge prediction：Between node A & node B，find out if there's a connection(edge) "
      ]
    },
    {
      "cell_type": "code",
      "execution_count": 2,
      "metadata": {
        "id": "8i16aK0zAp0D"
      },
      "outputs": [],
      "source": [
        "import os.path as osp\n",
        "\n",
        "import torch.nn.functional as F\n",
        "from sklearn.metrics import roc_auc_score\n",
        "\n",
        "import torch_geometric\n",
        "from torch_geometric.utils import negative_sampling\n",
        "from torch_geometric.datasets import Planetoid\n",
        "import torch_geometric.transforms as T\n",
        "from torch_geometric.nn import GCNConv\n",
        "from torch_geometric.utils import train_test_split_edges"
      ]
    },
    {
      "cell_type": "code",
      "source": [
        "# use cpu if has\n",
        "device = torch.device('cuda' if torch.cuda.is_available() else 'cpu')\n",
        "device = \"cpu\""
      ],
      "metadata": {
        "id": "QBSjxValhRi8"
      },
      "execution_count": 3,
      "outputs": []
    },
    {
      "cell_type": "code",
      "source": [
        "# load the Cora dataset\n",
        "# Cora dataset is well-known for graph learning\n",
        "dataset = 'Cora'\n",
        "path = osp.join('.', 'data', dataset)\n",
        "dataset = Planetoid(path, dataset, transform=T.NormalizeFeatures())\n",
        "data = dataset[0]\n",
        "print(dataset.data)"
      ],
      "metadata": {
        "colab": {
          "base_uri": "https://localhost:8080/"
        },
        "id": "pptbiaf3hRfi",
        "outputId": "8a410a02-e430-432b-982a-5ae388d65a1a"
      },
      "execution_count": 4,
      "outputs": [
        {
          "output_type": "stream",
          "name": "stderr",
          "text": [
            "Downloading https://github.com/kimiyoung/planetoid/raw/master/data/ind.cora.x\n",
            "Downloading https://github.com/kimiyoung/planetoid/raw/master/data/ind.cora.tx\n",
            "Downloading https://github.com/kimiyoung/planetoid/raw/master/data/ind.cora.allx\n",
            "Downloading https://github.com/kimiyoung/planetoid/raw/master/data/ind.cora.y\n",
            "Downloading https://github.com/kimiyoung/planetoid/raw/master/data/ind.cora.ty\n",
            "Downloading https://github.com/kimiyoung/planetoid/raw/master/data/ind.cora.ally\n",
            "Downloading https://github.com/kimiyoung/planetoid/raw/master/data/ind.cora.graph\n",
            "Downloading https://github.com/kimiyoung/planetoid/raw/master/data/ind.cora.test.index\n",
            "Processing...\n"
          ]
        },
        {
          "output_type": "stream",
          "name": "stdout",
          "text": [
            "Data(x=[2708, 1433], edge_index=[2, 10556], y=[2708], train_mask=[2708], val_mask=[2708], test_mask=[2708])\n"
          ]
        },
        {
          "output_type": "stream",
          "name": "stderr",
          "text": [
            "Done!\n"
          ]
        }
      ]
    },
    {
      "cell_type": "code",
      "source": [
        "# check a sample\n",
        "data"
      ],
      "metadata": {
        "colab": {
          "base_uri": "https://localhost:8080/"
        },
        "id": "eFUfKhl5hRcq",
        "outputId": "4054b329-f379-4b7e-ae9b-9748c6a6c4a6"
      },
      "execution_count": 5,
      "outputs": [
        {
          "output_type": "execute_result",
          "data": {
            "text/plain": [
              "Data(x=[2708, 1433], edge_index=[2, 10556], y=[2708], train_mask=[2708], val_mask=[2708], test_mask=[2708])"
            ]
          },
          "metadata": {},
          "execution_count": 5
        }
      ]
    },
    {
      "cell_type": "code",
      "source": [
        "# use train_test_split_edges to create neg and positive edges\n",
        "# initilize our own mask (mask is just training/testing/validation dasta)\n",
        "data.train_mask = data.val_mask = data.test_mask = data.y = None\n",
        "# initilize our own mask\n",
        "data = train_test_split_edges(data)\n",
        "print(data)"
      ],
      "metadata": {
        "colab": {
          "base_uri": "https://localhost:8080/"
        },
        "id": "djhYjS8zhRZo",
        "outputId": "3129f4bd-5e91-4a7f-8182-1ea56d09888f"
      },
      "execution_count": 6,
      "outputs": [
        {
          "output_type": "stream",
          "name": "stderr",
          "text": [
            "/usr/local/lib/python3.7/dist-packages/torch_geometric/deprecation.py:12: UserWarning: 'train_test_split_edges' is deprecated, use 'transforms.RandomLinkSplit' instead\n",
            "  warnings.warn(out)\n"
          ]
        },
        {
          "output_type": "stream",
          "name": "stdout",
          "text": [
            "Data(x=[2708, 1433], val_pos_edge_index=[2, 263], test_pos_edge_index=[2, 527], train_pos_edge_index=[2, 8976], train_neg_adj_mask=[2708, 2708], val_neg_edge_index=[2, 263], test_neg_edge_index=[2, 527])\n"
          ]
        }
      ]
    },
    {
      "cell_type": "code",
      "source": [
        "# Simple autoencoder model\n",
        "class Net(torch.nn.Module):\n",
        "    def __init__(self):\n",
        "        super(Net, self).__init__()\n",
        "        self.conv1 = GCNConv(dataset.num_features, 128)\n",
        "        self.conv2 = GCNConv(128, 64)\n",
        "\n",
        "    def encode(self):\n",
        "        x = self.conv1(data.x, data.train_pos_edge_index) # convolution 1\n",
        "        x = x.relu()\n",
        "        return self.conv2(x, data.train_pos_edge_index) # convolution 2\n",
        "\n",
        "    def decode(self, z, pos_edge_index, neg_edge_index): # only pos and neg edges\n",
        "        # concatenate pos and neg edges\n",
        "        edge_index = torch.cat([pos_edge_index, neg_edge_index], dim=-1) \n",
        "        logits = (z[edge_index[0]] * z[edge_index[1]]).sum(dim=-1)  # dot product \n",
        "        return logits\n",
        "\n",
        "    def decode_all(self, z): \n",
        "        prob_adj = z @ z.t() # get adj NxN\n",
        "        # get predicted edge_list\n",
        "        return (prob_adj > 0).nonzero(as_tuple=False).t()      "
      ],
      "metadata": {
        "id": "Jksk7NUihRTY"
      },
      "execution_count": 7,
      "outputs": []
    },
    {
      "cell_type": "code",
      "source": [
        "model, data = Net().to(device), data.to(device)\n",
        "optimizer = torch.optim.Adam(params=model.parameters(), lr=0.01)"
      ],
      "metadata": {
        "id": "4WNB-d15hRQq"
      },
      "execution_count": 8,
      "outputs": []
    },
    {
      "cell_type": "code",
      "source": [
        "def get_link_labels(pos_edge_index, neg_edge_index):\n",
        "    # returns a tensor:\n",
        "    # [1,1,1,1,...,0,0,0,0,0,..] with the number of ones is equel to the lenght of pos_edge_index\n",
        "    # and the number of zeros is equal to the length of neg_edge_index\n",
        "    E = pos_edge_index.size(1) + neg_edge_index.size(1)\n",
        "    link_labels = torch.zeros(E, dtype=torch.float, device=device)\n",
        "    link_labels[:pos_edge_index.size(1)] = 1.\n",
        "    return link_labels"
      ],
      "metadata": {
        "id": "Gf97yR0OhRNo"
      },
      "execution_count": 9,
      "outputs": []
    },
    {
      "cell_type": "code",
      "execution_count": 10,
      "metadata": {
        "id": "MqeOqInxApxf"
      },
      "outputs": [],
      "source": [
        "def train():\n",
        "    model.train()\n",
        "\n",
        "    neg_edge_index = negative_sampling(\n",
        "        edge_index=data.train_pos_edge_index, #positive edges\n",
        "        num_nodes=data.num_nodes, # number of nodes\n",
        "        num_neg_samples=data.train_pos_edge_index.size(1)) # number of neg_sample equal to number of pos_edges\n",
        "\n",
        "    optimizer.zero_grad()\n",
        "    \n",
        "    z = model.encode() #encode\n",
        "    link_logits = model.decode(z, data.train_pos_edge_index, neg_edge_index) # decode\n",
        "    \n",
        "    link_labels = get_link_labels(data.train_pos_edge_index, neg_edge_index)\n",
        "    loss = F.binary_cross_entropy_with_logits(link_logits, link_labels)\n",
        "    loss.backward()\n",
        "    optimizer.step()\n",
        "\n",
        "    return loss\n",
        "\n",
        "\n",
        "@torch.no_grad()\n",
        "def test():\n",
        "    model.eval()\n",
        "    perfs = []\n",
        "    for prefix in [\"val\", \"test\"]:\n",
        "        pos_edge_index = data[f'{prefix}_pos_edge_index']\n",
        "        neg_edge_index = data[f'{prefix}_neg_edge_index']\n",
        "\n",
        "        z = model.encode() # encode train\n",
        "        link_logits = model.decode(z, pos_edge_index, neg_edge_index) # decode test or val\n",
        "        link_probs = link_logits.sigmoid() # apply sigmoid\n",
        "        \n",
        "        link_labels = get_link_labels(pos_edge_index, neg_edge_index) # get link\n",
        "        \n",
        "        perfs.append(roc_auc_score(link_labels.cpu(), link_probs.cpu())) #compute roc_auc score\n",
        "    return perfs"
      ]
    },
    {
      "cell_type": "code",
      "execution_count": 12,
      "metadata": {
        "id": "v6erHLHnApum",
        "colab": {
          "base_uri": "https://localhost:8080/"
        },
        "outputId": "c1dc5a95-5020-4f3a-e81f-0d1bf5d67dee"
      },
      "outputs": [
        {
          "output_type": "stream",
          "name": "stdout",
          "text": [
            "Epoch: 010, Loss: 0.5697, Val: 0.7591, Test: 0.7949\n",
            "Epoch: 020, Loss: 0.5176, Val: 0.8107, Test: 0.8578\n",
            "Epoch: 030, Loss: 0.4794, Val: 0.8583, Test: 0.8839\n",
            "Epoch: 040, Loss: 0.4718, Val: 0.8670, Test: 0.8837\n",
            "Epoch: 050, Loss: 0.4571, Val: 0.8810, Test: 0.8919\n",
            "Epoch: 060, Loss: 0.4514, Val: 0.8841, Test: 0.8945\n",
            "Epoch: 070, Loss: 0.4525, Val: 0.8841, Test: 0.8945\n",
            "Epoch: 080, Loss: 0.4460, Val: 0.8841, Test: 0.8945\n",
            "Epoch: 090, Loss: 0.4432, Val: 0.8841, Test: 0.8945\n",
            "Epoch: 100, Loss: 0.4345, Val: 0.8869, Test: 0.9028\n"
          ]
        }
      ],
      "source": [
        "best_val_perf = test_perf = 0\n",
        "for epoch in range(1, 101):\n",
        "    train_loss = train()\n",
        "    val_perf, tmp_test_perf = test()\n",
        "    if val_perf > best_val_perf:\n",
        "        best_val_perf = val_perf\n",
        "        test_perf = tmp_test_perf\n",
        "    log = 'Epoch: {:03d}, Loss: {:.4f}, Val: {:.4f}, Test: {:.4f}'\n",
        "    if epoch % 10 == 0:\n",
        "        print(log.format(epoch, train_loss, best_val_perf, test_perf))"
      ]
    },
    {
      "cell_type": "code",
      "execution_count": 13,
      "metadata": {
        "id": "gTBQE-4nApro"
      },
      "outputs": [],
      "source": [
        "z = model.encode()\n",
        "final_edge_index = model.decode_all(z)"
      ]
    },
    {
      "cell_type": "code",
      "execution_count": 14,
      "metadata": {
        "id": "MLC0lippApoz",
        "colab": {
          "base_uri": "https://localhost:8080/"
        },
        "outputId": "af747dce-95c3-4972-bc45-446ca84afd61"
      },
      "outputs": [
        {
          "output_type": "execute_result",
          "data": {
            "text/plain": [
              "tensor([[   0,    0,    0,  ..., 2707, 2707, 2707],\n",
              "        [   0,    2,    4,  ..., 2705, 2706, 2707]])"
            ]
          },
          "metadata": {},
          "execution_count": 14
        }
      ],
      "source": [
        "final_edge_index"
      ]
    },
    {
      "cell_type": "code",
      "execution_count": null,
      "metadata": {
        "id": "XfOyOTzOApjJ"
      },
      "outputs": [],
      "source": []
    },
    {
      "cell_type": "markdown",
      "source": [
        "-----"
      ],
      "metadata": {
        "id": "GMPoYBMWoxgv"
      }
    },
    {
      "cell_type": "markdown",
      "source": [
        "Edge Label Prediction：predict两个nodes之间的edge的lebel(features)"
      ],
      "metadata": {
        "id": "afiBu9-loyic"
      }
    },
    {
      "cell_type": "code",
      "execution_count": 15,
      "metadata": {
        "id": "honuYiF6Apf_"
      },
      "outputs": [],
      "source": [
        "from torch_geometric.nn import Node2Vec\n",
        "import os.path as osp\n",
        "import torch\n",
        "import matplotlib.pyplot as plt\n",
        "from sklearn.manifold import TSNE\n",
        "from torch_geometric.datasets import Planetoid\n",
        "from tqdm.notebook import tqdm\n",
        "from torch_geometric.datasets import TUDataset\n",
        "\n",
        "import numpy as np"
      ]
    },
    {
      "cell_type": "markdown",
      "source": [
        "![Untitled.png](data:image/png;base64,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)"
      ],
      "metadata": {
        "id": "KyYVHvG5phXL"
      }
    },
    {
      "cell_type": "markdown",
      "source": [
        "**Node2Vec**：convert two nodes to embeddings, and then take its average"
      ],
      "metadata": {
        "id": "2SgzIyIipkgM"
      }
    },
    {
      "cell_type": "code",
      "execution_count": 16,
      "metadata": {
        "id": "MdPgSzNUApdY",
        "colab": {
          "base_uri": "https://localhost:8080/"
        },
        "outputId": "59189f52-49b0-48ec-e67f-9fdd64310aeb"
      },
      "outputs": [
        {
          "output_type": "stream",
          "name": "stderr",
          "text": [
            "Downloading https://www.chrsmrrs.com/graphkerneldatasets/AIDS.zip\n",
            "Extracting ./AIDS/AIDS.zip\n",
            "Processing...\n",
            "Done!\n"
          ]
        }
      ],
      "source": [
        "# use gpu is has\n",
        "device = torch.device('cuda' if torch.cuda.is_available() else 'cpu')\n",
        "device = \"cpu\"\n",
        "dataset = \"AIDS\"\n",
        "data = TUDataset(\".\", name=dataset)"
      ]
    },
    {
      "cell_type": "code",
      "execution_count": 17,
      "metadata": {
        "id": "Yxq_ivVsApaL",
        "colab": {
          "base_uri": "https://localhost:8080/"
        },
        "outputId": "d620b496-a400-4e9f-c882-d75211fd5f7e"
      },
      "outputs": [
        {
          "output_type": "stream",
          "name": "stdout",
          "text": [
            "AIDS(2000)\n",
            "number of classes:  2 \t\t(active),(inactive)\n",
            "number of features:  38\n",
            "number of edge labels:  3\n"
          ]
        }
      ],
      "source": [
        "print(data)\n",
        "print(\"number of classes: \",data.num_classes,\"\\t\\t(active),(inactive)\")\n",
        "print(\"number of features: \",data.num_features)\n",
        "print(\"number of edge labels: \",data.num_edge_labels)\n",
        "# this dataset is molecule"
      ]
    },
    {
      "cell_type": "code",
      "source": [
        "#selecet a sample\n",
        "data1 = data[1]\n",
        "\n",
        "# extract edge list\n",
        "edge_list = data1.edge_index.t().numpy()\n",
        "print(edge_list[0:10])\n",
        "#show 10 edges"
      ],
      "metadata": {
        "colab": {
          "base_uri": "https://localhost:8080/"
        },
        "id": "9VAxXnU7qFBO",
        "outputId": "a6c3e7c8-98a4-45ff-e3fe-0a22d08fd32d"
      },
      "execution_count": 18,
      "outputs": [
        {
          "output_type": "stream",
          "name": "stdout",
          "text": [
            "[[0 1]\n",
            " [0 5]\n",
            " [1 0]\n",
            " [1 2]\n",
            " [1 6]\n",
            " [2 1]\n",
            " [2 3]\n",
            " [3 2]\n",
            " [3 4]\n",
            " [3 7]]\n"
          ]
        }
      ]
    },
    {
      "cell_type": "code",
      "source": [
        "# extract edge attributes\n",
        "edge_attr = data1.edge_attr.numpy()\n",
        "print(edge_attr[0:10])"
      ],
      "metadata": {
        "colab": {
          "base_uri": "https://localhost:8080/"
        },
        "id": "hEO1Ea-RqE-t",
        "outputId": "53a5b9e6-006e-47b9-c4c8-706e6c51a335"
      },
      "execution_count": 19,
      "outputs": [
        {
          "output_type": "stream",
          "name": "stdout",
          "text": [
            "[[1. 0. 0.]\n",
            " [1. 0. 0.]\n",
            " [1. 0. 0.]\n",
            " [1. 0. 0.]\n",
            " [0. 1. 0.]\n",
            " [1. 0. 0.]\n",
            " [1. 0. 0.]\n",
            " [1. 0. 0.]\n",
            " [1. 0. 0.]\n",
            " [0. 1. 0.]]\n"
          ]
        }
      ]
    },
    {
      "cell_type": "code",
      "source": [
        "# use Networkx for plot a graph\n",
        "import networkx as nx\n",
        "\n",
        "# build the graph\n",
        "graph1 = nx.Graph()\n",
        "\n",
        "for i in range(len(edge_list)):\n",
        "    u = edge_list[i][0]\n",
        "    v = edge_list[i][1]\n",
        "    graph1.add_edge(u,v,label=edge_attr[i])\n",
        "    \n",
        "print(graph1.edges(data=True))"
      ],
      "metadata": {
        "colab": {
          "base_uri": "https://localhost:8080/"
        },
        "id": "VZNnZjJzqE8A",
        "outputId": "bd47cff6-d829-4618-b476-0d2249c6205d"
      },
      "execution_count": 20,
      "outputs": [
        {
          "output_type": "stream",
          "name": "stdout",
          "text": [
            "[(0, 1, {'label': array([1., 0., 0.], dtype=float32)}), (0, 5, {'label': array([1., 0., 0.], dtype=float32)}), (1, 2, {'label': array([1., 0., 0.], dtype=float32)}), (1, 6, {'label': array([0., 1., 0.], dtype=float32)}), (5, 4, {'label': array([1., 0., 0.], dtype=float32)}), (5, 8, {'label': array([1., 0., 0.], dtype=float32)}), (2, 3, {'label': array([1., 0., 0.], dtype=float32)}), (3, 4, {'label': array([1., 0., 0.], dtype=float32)}), (3, 7, {'label': array([0., 1., 0.], dtype=float32)}), (4, 9, {'label': array([1., 0., 0.], dtype=float32)}), (4, 10, {'label': array([1., 0., 0.], dtype=float32)})]\n"
          ]
        }
      ]
    },
    {
      "cell_type": "code",
      "source": [
        "pos = nx.spring_layout(graph1)\n",
        "nx.draw(graph1,pos)\n",
        "nx.draw_networkx_edge_labels(graph1,pos,nx.get_edge_attributes(graph1,'label'))\n",
        "plt.show()"
      ],
      "metadata": {
        "colab": {
          "base_uri": "https://localhost:8080/",
          "height": 319
        },
        "id": "FZNgXWVxqE4x",
        "outputId": "2986e4a1-3e93-445e-be2a-d37608e318a7"
      },
      "execution_count": 21,
      "outputs": [
        {
          "output_type": "display_data",
          "data": {
            "text/plain": [
              "<Figure size 432x288 with 1 Axes>"
            ],
            "image/png": "[encoded data removed]"
          },
          "metadata": {}
        }
      ]
    },
    {
      "cell_type": "code",
      "source": [],
      "metadata": {
        "id": "rqR__ujhqE1m"
      },
      "execution_count": null,
      "outputs": []
    },
    {
      "cell_type": "markdown",
      "source": [
        "Use only one moleculas compound"
      ],
      "metadata": {
        "id": "95oMgdySq7hI"
      }
    },
    {
      "cell_type": "code",
      "source": [
        "data.data"
      ],
      "metadata": {
        "colab": {
          "base_uri": "https://localhost:8080/"
        },
        "id": "yBsw_TXTqEyR",
        "outputId": "05fa9820-7174-4c96-82dc-4c5c2be8068c"
      },
      "execution_count": 22,
      "outputs": [
        {
          "output_type": "execute_result",
          "data": {
            "text/plain": [
              "Data(x=[31385, 38], edge_index=[2, 64780], edge_attr=[64780, 3], y=[2000])"
            ]
          },
          "metadata": {},
          "execution_count": 22
        }
      ]
    },
    {
      "cell_type": "code",
      "execution_count": 23,
      "metadata": {
        "id": "oHlokH0lApXL",
        "colab": {
          "base_uri": "https://localhost:8080/"
        },
        "outputId": "c9a466ea-a5dd-4418-9236-46bbdcbad83b"
      },
      "outputs": [
        {
          "output_type": "execute_result",
          "data": {
            "text/plain": [
              "Data(edge_index=[2, 166], x=[77, 38], edge_attr=[166, 3], y=[1])"
            ]
          },
          "metadata": {},
          "execution_count": 23
        }
      ],
      "source": [
        "data = data[10]\n",
        "data"
      ]
    },
    {
      "cell_type": "code",
      "execution_count": null,
      "metadata": {
        "id": "rlz5IqPfApUn"
      },
      "outputs": [],
      "source": []
    },
    {
      "cell_type": "markdown",
      "source": [
        "build the graph with train_mask, test_mask, val_mask"
      ],
      "metadata": {
        "id": "QEQZ50gkrDUO"
      }
    },
    {
      "cell_type": "code",
      "execution_count": 24,
      "metadata": {
        "id": "0uTlf87fApRe",
        "colab": {
          "base_uri": "https://localhost:8080/"
        },
        "outputId": "bfd1955f-4aa6-498b-833b-0207792ae9c8"
      },
      "outputs": [
        {
          "output_type": "stream",
          "name": "stdout",
          "text": [
            "76\n"
          ]
        }
      ],
      "source": [
        "np.random.seed(10)\n",
        "# get the nodes\n",
        "nodes = data.edge_index.t().numpy()\n",
        "nodes = np.unique(list(nodes[:,0]) + list(nodes[:,1]))\n",
        "\n",
        "np.random.shuffle(nodes) # shuffle node order\n",
        "print(len(nodes))"
      ]
    },
    {
      "cell_type": "code",
      "execution_count": 25,
      "metadata": {
        "id": "qifw-rfmApOw"
      },
      "outputs": [],
      "source": [
        "# get train test and val sizes: (70% - 15% - 15%)\n",
        "train_size = int(len(nodes)*0.7)\n",
        "test_size = int(len(nodes)*0.85) - train_size\n",
        "val_size = len(nodes) - train_size - test_size"
      ]
    },
    {
      "cell_type": "code",
      "execution_count": 26,
      "metadata": {
        "id": "WRD27aF1ApL1",
        "colab": {
          "base_uri": "https://localhost:8080/"
        },
        "outputId": "aabf5ffc-17cb-4e04-a206-8acd27291c5a"
      },
      "outputs": [
        {
          "output_type": "stream",
          "name": "stdout",
          "text": [
            "53 11 12\n",
            "True\n",
            "train set\t [68 26 21  3 44 41  6 20  2 60]\n",
            "test set \t [13 73 51 49 14 67 70 33 58 43]\n",
            "val set  \t [54 11 16 36 40  0  8 29 28 64]\n"
          ]
        }
      ],
      "source": [
        "# get train test and validation set of nodes\n",
        "train_set = nodes[0:train_size]\n",
        "test_set = nodes[train_size:train_size+test_size]\n",
        "val_set = nodes[train_size+test_size:]\n",
        "\n",
        "\n",
        "print(len(train_set),len(test_set),len(val_set))\n",
        "print(len(train_set)+len(test_set)+len(val_set) == len(nodes))\n",
        "\n",
        "print(\"train set\\t\",train_set[:10])\n",
        "print(\"test set \\t\",test_set[:10])\n",
        "print(\"val set  \\t\",val_set[:10])"
      ]
    },
    {
      "cell_type": "markdown",
      "source": [
        "output we can see: train set、test set、val set (53、11、12)"
      ],
      "metadata": {
        "id": "A4Crbw1avhfN"
      }
    },
    {
      "cell_type": "code",
      "execution_count": 27,
      "metadata": {
        "id": "zlc9etXlApJJ",
        "colab": {
          "base_uri": "https://localhost:8080/"
        },
        "outputId": "f00919d8-e0d7-47d0-912b-fa5816e98eaa"
      },
      "outputs": [
        {
          "output_type": "stream",
          "name": "stdout",
          "text": [
            "train mask \t tensor([0, 1, 1, 1, 1, 1, 1, 1, 0, 0, 1, 0, 1, 0, 0])\n",
            "test mask  \t tensor([0, 0, 0, 0, 0, 0, 0, 0, 0, 0, 0, 0, 0, 1, 1])\n",
            "val mask   \t tensor([1, 0, 0, 0, 0, 0, 0, 0, 1, 1, 0, 1, 0, 0, 0])\n"
          ]
        }
      ],
      "source": [
        "# build test train val masks\n",
        "\n",
        "train_mask = torch.zeros(len(nodes),dtype=torch.long, device=device)\n",
        "for i in train_set:\n",
        "    train_mask[i] = 1.\n",
        "\n",
        "test_mask = torch.zeros(len(nodes),dtype=torch.long, device=device)\n",
        "for i in test_set:\n",
        "    test_mask[i] = 1.\n",
        "    \n",
        "val_mask = torch.zeros(len(nodes),dtype=torch.long, device=device)\n",
        "for i in val_set:\n",
        "    val_mask[i] = 1.\n",
        "    \n",
        "print(\"train mask \\t\",train_mask[0:15])\n",
        "print(\"test mask  \\t\",test_mask[0:15])\n",
        "print(\"val mask   \\t\",val_mask[0:15]) "
      ]
    },
    {
      "cell_type": "code",
      "execution_count": 28,
      "metadata": {
        "id": "2Q4_AkwRApGE",
        "colab": {
          "base_uri": "https://localhost:8080/"
        },
        "outputId": "b2c0731d-a5a7-4aa9-a545-a2057571fe9b"
      },
      "outputs": [
        {
          "output_type": "stream",
          "name": "stdout",
          "text": [
            "befor\t\t Data(edge_index=[2, 166], x=[77, 38], edge_attr=[166, 3], y=[1])\n"
          ]
        }
      ],
      "source": [
        "# remove from the data what do we not use.\n",
        "\n",
        "print(\"befor\\t\\t\",data)\n",
        "data.x = None\n",
        "data.edge_attr = None\n",
        "data.y = None"
      ]
    },
    {
      "cell_type": "code",
      "execution_count": 29,
      "metadata": {
        "id": "aPoe1aOcApDT",
        "colab": {
          "base_uri": "https://localhost:8080/"
        },
        "outputId": "5cc02327-5e39-47af-9d4e-0da8235e3df7"
      },
      "outputs": [
        {
          "output_type": "stream",
          "name": "stdout",
          "text": [
            "after\t\t Data(edge_index=[2, 166], train_mask=[76], test_mask=[76], val_mask=[76])\n"
          ]
        }
      ],
      "source": [
        "# add masks\n",
        "data.train_mask = train_mask\n",
        "data.test_mask = test_mask\n",
        "data.val_mask = val_mask\n",
        "\n",
        "print(\"after\\t\\t\",data)"
      ]
    },
    {
      "cell_type": "code",
      "source": [],
      "metadata": {
        "id": "I4X1b029rSiG"
      },
      "execution_count": null,
      "outputs": []
    },
    {
      "cell_type": "markdown",
      "source": [
        "Use Node2Vec"
      ],
      "metadata": {
        "id": "kAjtT-SYrUne"
      }
    },
    {
      "cell_type": "code",
      "source": [
        "!pip install torch-cluster -f https://data.pyg.org/whl/torch-${TORCH}.html"
      ],
      "metadata": {
        "colab": {
          "base_uri": "https://localhost:8080/"
        },
        "id": "6TM3h9y6kZK0",
        "outputId": "4d182c72-0f62-4085-bb1c-a746667c6ca5"
      },
      "execution_count": 32,
      "outputs": [
        {
          "output_type": "stream",
          "name": "stdout",
          "text": [
            "Looking in indexes: https://pypi.org/simple, https://us-python.pkg.dev/colab-wheels/public/simple/\n",
            "Looking in links: https://data.pyg.org/whl/torch-1.12.1+cu113.html\n",
            "Collecting torch-cluster\n",
            "  Downloading https://data.pyg.org/whl/torch-1.12.0%2Bcu113/torch_cluster-1.6.0-cp37-cp37m-linux_x86_64.whl (2.4 MB)\n",
            "\u001b[K     |████████████████████████████████| 2.4 MB 2.9 MB/s \n",
            "\u001b[?25hInstalling collected packages: torch-cluster\n",
            "Successfully installed torch-cluster-1.6.0\n"
          ]
        }
      ]
    },
    {
      "cell_type": "markdown",
      "source": [
        "Since I got error directly importing Node2Vec, I copied its implementation from the source instead, so I can used Node2Vec."
      ],
      "metadata": {
        "id": "oP7F89aIlO_6"
      }
    },
    {
      "cell_type": "code",
      "source": [
        "# from: https://pytorch-geometric.readthedocs.io/en/latest/_modules/torch_geometric/nn/models/node2vec.html\n",
        "from typing import Optional, Tuple\n",
        "\n",
        "import torch\n",
        "from torch import Tensor\n",
        "from torch.nn import Embedding\n",
        "from torch.utils.data import DataLoader\n",
        "from torch_sparse import SparseTensor\n",
        "\n",
        "from torch_geometric.typing import OptTensor\n",
        "from torch_geometric.utils.num_nodes import maybe_num_nodes\n",
        "\n",
        "try:\n",
        "    import torch_cluster  # noqa\n",
        "    random_walk = torch.ops.torch_cluster.random_walk\n",
        "except ImportError:\n",
        "    random_walk = None\n",
        "\n",
        "EPS = 1e-15\n",
        "\n",
        "\n",
        "class Node2Vec(torch.nn.Module):\n",
        "    r\"\"\"The Node2Vec model from the\n",
        "    `\"node2vec: Scalable Feature Learning for Networks\"\n",
        "    <https://arxiv.org/abs/1607.00653>`_ paper where random walks of\n",
        "    length :obj:`walk_length` are sampled in a given graph, and node embeddings\n",
        "    are learned via negative sampling optimization.\n",
        "\n",
        "    .. note::\n",
        "\n",
        "        For an example of using Node2Vec, see `examples/node2vec.py\n",
        "        <https://github.com/pyg-team/pytorch_geometric/blob/master/examples/\n",
        "        node2vec.py>`_.\n",
        "\n",
        "    Args:\n",
        "        edge_index (LongTensor): The edge indices.\n",
        "        embedding_dim (int): The size of each embedding vector.\n",
        "        walk_length (int): The walk length.\n",
        "        context_size (int): The actual context size which is considered for\n",
        "            positive samples. This parameter increases the effective sampling\n",
        "            rate by reusing samples across different source nodes.\n",
        "        walks_per_node (int, optional): The number of walks to sample for each\n",
        "            node. (default: :obj:`1`)\n",
        "        p (float, optional): Likelihood of immediately revisiting a node in the\n",
        "            walk. (default: :obj:`1`)\n",
        "        q (float, optional): Control parameter to interpolate between\n",
        "            breadth-first strategy and depth-first strategy (default: :obj:`1`)\n",
        "        num_negative_samples (int, optional): The number of negative samples to\n",
        "            use for each positive sample. (default: :obj:`1`)\n",
        "        num_nodes (int, optional): The number of nodes. (default: :obj:`None`)\n",
        "        sparse (bool, optional): If set to :obj:`True`, gradients w.r.t. to the\n",
        "            weight matrix will be sparse. (default: :obj:`False`)\n",
        "    \"\"\"\n",
        "    def __init__(\n",
        "        self,\n",
        "        edge_index: Tensor,\n",
        "        embedding_dim: int,\n",
        "        walk_length: int,\n",
        "        context_size: int,\n",
        "        walks_per_node: int = 1,\n",
        "        p: float = 1.0,\n",
        "        q: float = 1.0,\n",
        "        num_negative_samples: int = 1,\n",
        "        num_nodes: Optional[int] = None,\n",
        "        sparse: bool = False,\n",
        "    ):\n",
        "        super().__init__()\n",
        "\n",
        "        if random_walk is None:\n",
        "            raise ImportError('`Node2Vec` requires `torch-cluster`.')\n",
        "\n",
        "        N = maybe_num_nodes(edge_index, num_nodes)\n",
        "        row, col = edge_index\n",
        "        self.adj = SparseTensor(row=row, col=col, sparse_sizes=(N, N))\n",
        "        self.adj = self.adj.to('cpu')\n",
        "\n",
        "        assert walk_length >= context_size\n",
        "\n",
        "        self.embedding_dim = embedding_dim\n",
        "        self.walk_length = walk_length - 1\n",
        "        self.context_size = context_size\n",
        "        self.walks_per_node = walks_per_node\n",
        "        self.p = p\n",
        "        self.q = q\n",
        "        self.num_negative_samples = num_negative_samples\n",
        "\n",
        "        self.embedding = Embedding(N, embedding_dim, sparse=sparse)\n",
        "\n",
        "        self.reset_parameters()\n",
        "\n",
        "    def reset_parameters(self):\n",
        "        self.embedding.reset_parameters()\n",
        "\n",
        "\n",
        "    def forward(self, batch: OptTensor = None) -> Tensor:\n",
        "        \"\"\"Returns the embeddings for the nodes in :obj:`batch`.\"\"\"\n",
        "        emb = self.embedding.weight\n",
        "        return emb if batch is None else emb.index_select(0, batch)\n",
        "\n",
        "\n",
        "    def loader(self, **kwargs) -> DataLoader:\n",
        "        return DataLoader(range(self.adj.sparse_size(0)),\n",
        "                          collate_fn=self.sample, **kwargs)\n",
        "\n",
        "\n",
        "    def pos_sample(self, batch: Tensor) -> Tensor:\n",
        "        batch = batch.repeat(self.walks_per_node)\n",
        "        rowptr, col, _ = self.adj.csr()\n",
        "        rw = random_walk(rowptr, col, batch, self.walk_length, self.p, self.q)\n",
        "        if not isinstance(rw, Tensor):\n",
        "            rw = rw[0]\n",
        "\n",
        "        walks = []\n",
        "        num_walks_per_rw = 1 + self.walk_length + 1 - self.context_size\n",
        "        for j in range(num_walks_per_rw):\n",
        "            walks.append(rw[:, j:j + self.context_size])\n",
        "        return torch.cat(walks, dim=0)\n",
        "\n",
        "\n",
        "    def neg_sample(self, batch: Tensor) -> Tensor:\n",
        "        batch = batch.repeat(self.walks_per_node * self.num_negative_samples)\n",
        "\n",
        "        rw = torch.randint(self.adj.sparse_size(0),\n",
        "                           (batch.size(0), self.walk_length))\n",
        "        rw = torch.cat([batch.view(-1, 1), rw], dim=-1)\n",
        "\n",
        "        walks = []\n",
        "        num_walks_per_rw = 1 + self.walk_length + 1 - self.context_size\n",
        "        for j in range(num_walks_per_rw):\n",
        "            walks.append(rw[:, j:j + self.context_size])\n",
        "        return torch.cat(walks, dim=0)\n",
        "\n",
        "\n",
        "    def sample(self, batch: Tensor) -> Tuple[Tensor, Tensor]:\n",
        "        if not isinstance(batch, Tensor):\n",
        "            batch = torch.tensor(batch)\n",
        "        return self.pos_sample(batch), self.neg_sample(batch)\n",
        "\n",
        "\n",
        "    def loss(self, pos_rw: Tensor, neg_rw: Tensor) -> Tensor:\n",
        "        r\"\"\"Computes the loss given positive and negative random walks.\"\"\"\n",
        "\n",
        "        # Positive loss.\n",
        "        start, rest = pos_rw[:, 0], pos_rw[:, 1:].contiguous()\n",
        "\n",
        "        h_start = self.embedding(start).view(pos_rw.size(0), 1,\n",
        "                                             self.embedding_dim)\n",
        "        h_rest = self.embedding(rest.view(-1)).view(pos_rw.size(0), -1,\n",
        "                                                    self.embedding_dim)\n",
        "\n",
        "        out = (h_start * h_rest).sum(dim=-1).view(-1)\n",
        "        pos_loss = -torch.log(torch.sigmoid(out) + EPS).mean()\n",
        "\n",
        "        # Negative loss.\n",
        "        start, rest = neg_rw[:, 0], neg_rw[:, 1:].contiguous()\n",
        "\n",
        "        h_start = self.embedding(start).view(neg_rw.size(0), 1,\n",
        "                                             self.embedding_dim)\n",
        "        h_rest = self.embedding(rest.view(-1)).view(neg_rw.size(0), -1,\n",
        "                                                    self.embedding_dim)\n",
        "\n",
        "        out = (h_start * h_rest).sum(dim=-1).view(-1)\n",
        "        neg_loss = -torch.log(1 - torch.sigmoid(out) + EPS).mean()\n",
        "\n",
        "        return pos_loss + neg_loss\n",
        "\n",
        "\n",
        "    def test(\n",
        "        self,\n",
        "        train_z: Tensor,\n",
        "        train_y: Tensor,\n",
        "        test_z: Tensor,\n",
        "        test_y: Tensor,\n",
        "        solver: str = 'lbfgs',\n",
        "        multi_class: str = 'auto',\n",
        "        *args,\n",
        "        **kwargs,\n",
        "    ) -> float:\n",
        "        r\"\"\"Evaluates latent space quality via a logistic regression downstream\n",
        "        task.\"\"\"\n",
        "        from sklearn.linear_model import LogisticRegression\n",
        "\n",
        "        clf = LogisticRegression(solver=solver, multi_class=multi_class, *args,\n",
        "                                 **kwargs).fit(train_z.detach().cpu().numpy(),\n",
        "                                               train_y.detach().cpu().numpy())\n",
        "        return clf.score(test_z.detach().cpu().numpy(),\n",
        "                         test_y.detach().cpu().numpy())\n",
        "\n",
        "\n",
        "    def __repr__(self) -> str:\n",
        "        return (f'{self.__class__.__name__}({self.embedding.weight.size(0)}, '\n",
        "                f'{self.embedding.weight.size(1)})')"
      ],
      "metadata": {
        "id": "BFf_gtNDk2Pu"
      },
      "execution_count": 39,
      "outputs": []
    },
    {
      "cell_type": "code",
      "source": [
        "device = 'cuda' if torch.cuda.is_available() else 'cpu'\n",
        "\n",
        "model = Node2Vec(data.edge_index, embedding_dim=128, walk_length=20,\n",
        "             context_size=10, walks_per_node=10,\n",
        "             num_negative_samples=1, p=1, q=1, sparse=True).to(device)\n",
        "\n",
        "loader = model.loader(batch_size=128, shuffle=True, num_workers=4)\n",
        "optimizer = torch.optim.SparseAdam(list(model.parameters()), lr=0.01)"
      ],
      "metadata": {
        "id": "5Tnd4iXQrSfO",
        "colab": {
          "base_uri": "https://localhost:8080/"
        },
        "outputId": "fe24bc41-5f91-443a-9c63-65ae22d0575b"
      },
      "execution_count": 40,
      "outputs": [
        {
          "output_type": "stream",
          "name": "stderr",
          "text": [
            "/usr/local/lib/python3.7/dist-packages/torch/utils/data/dataloader.py:566: UserWarning: This DataLoader will create 4 worker processes in total. Our suggested max number of worker in current system is 2, which is smaller than what this DataLoader is going to create. Please be aware that excessive worker creation might get DataLoader running slow or even freeze, lower the worker number to avoid potential slowness/freeze if necessary.\n",
            "  cpuset_checked))\n"
          ]
        }
      ]
    },
    {
      "cell_type": "code",
      "source": [
        "def train():\n",
        "    model.train()\n",
        "    total_loss = 0\n",
        "    for pos_rw, neg_rw in loader:\n",
        "        optimizer.zero_grad()\n",
        "        loss = model.loss(pos_rw.to(device), neg_rw.to(device))\n",
        "        loss.backward()\n",
        "        optimizer.step()\n",
        "        total_loss += loss.item()\n",
        "    return total_loss / len(loader)\n",
        "\n",
        "\n",
        "@torch.no_grad()\n",
        "def test():\n",
        "    model.eval()\n",
        "    z = model()\n",
        "    acc = model.test(z[data.train_mask], data.y[data.train_mask],\n",
        "                     z[data.test_mask], data.y[data.test_mask],\n",
        "                     max_iter=10)\n",
        "    return acc"
      ],
      "metadata": {
        "id": "YirG19pdrScg"
      },
      "execution_count": 41,
      "outputs": []
    },
    {
      "cell_type": "code",
      "source": [
        "for epoch in range(1, 101):\n",
        "    loss = train()\n",
        "    #acc = test()\n",
        "    if epoch % 10 == 0:\n",
        "        print(f'Epoch: {epoch:02d}, Loss: {loss:.4f}')"
      ],
      "metadata": {
        "id": "eZw1e5clrSZ2",
        "colab": {
          "base_uri": "https://localhost:8080/"
        },
        "outputId": "390b442f-5d9b-4890-8593-60ae69f3f143"
      },
      "execution_count": 43,
      "outputs": [
        {
          "output_type": "stream",
          "name": "stdout",
          "text": [
            "Epoch: 10, Loss: 4.2916\n",
            "Epoch: 20, Loss: 3.7579\n",
            "Epoch: 30, Loss: 3.2600\n",
            "Epoch: 40, Loss: 3.0457\n",
            "Epoch: 50, Loss: 2.9048\n",
            "Epoch: 60, Loss: 2.7855\n",
            "Epoch: 70, Loss: 2.7008\n",
            "Epoch: 80, Loss: 2.6836\n",
            "Epoch: 90, Loss: 2.6701\n",
            "Epoch: 100, Loss: 2.6114\n"
          ]
        }
      ]
    },
    {
      "cell_type": "code",
      "source": [
        "z = model()"
      ],
      "metadata": {
        "id": "TMN40dW2rSW2"
      },
      "execution_count": 44,
      "outputs": []
    },
    {
      "cell_type": "code",
      "source": [],
      "metadata": {
        "id": "uXd0ZjtOrSTc"
      },
      "execution_count": null,
      "outputs": []
    },
    {
      "cell_type": "markdown",
      "source": [
        "visualize node embedding"
      ],
      "metadata": {
        "id": "1HeCHtJZwU-N"
      }
    },
    {
      "cell_type": "code",
      "source": [
        "# from tensor to numpy\n",
        "emb_128 = z.detach().cpu().numpy()"
      ],
      "metadata": {
        "id": "iDbT-qESrSQq"
      },
      "execution_count": 45,
      "outputs": []
    },
    {
      "cell_type": "code",
      "source": [
        "from sklearn.decomposition import PCA\n",
        "# fit and transform using PCA\n",
        "pca = PCA(n_components=2) # it used for dimension reduction\n",
        "emb2d = pca.fit_transform(emb_128)\n",
        "\n",
        "\n",
        "plt.title(\"node embedding in 2D\")\n",
        "plt.scatter(emb2d[:,0],emb2d[:,1])\n",
        "plt.show()"
      ],
      "metadata": {
        "id": "P5iX2eLVrSN8",
        "colab": {
          "base_uri": "https://localhost:8080/",
          "height": 281
        },
        "outputId": "ded2312e-1e0b-46eb-ebaf-fa75d0377fa5"
      },
      "execution_count": 46,
      "outputs": [
        {
          "output_type": "display_data",
          "data": {
            "text/plain": [
              "<Figure size 432x288 with 1 Axes>"
            ],
            "image/png": "[encoded data removed]"
          },
          "metadata": {
            "needs_background": "light"
          }
        }
      ]
    },
    {
      "cell_type": "code",
      "source": [],
      "metadata": {
        "id": "d5FcoxrfrSLI"
      },
      "execution_count": null,
      "outputs": []
    },
    {
      "cell_type": "markdown",
      "source": [
        "Compute edge embedding"
      ],
      "metadata": {
        "id": "E6xRTURXwZWI"
      }
    },
    {
      "cell_type": "code",
      "source": [
        "# reload AIDS dataset \n",
        "# and pick the same graph\n",
        "\n",
        "\n",
        "dataset = \"AIDS\"\n",
        "data = TUDataset(\".\", name=dataset)\n",
        "data = data[10]"
      ],
      "metadata": {
        "id": "bhhfpPDBwZAo"
      },
      "execution_count": 48,
      "outputs": []
    },
    {
      "cell_type": "code",
      "source": [
        "# convert edge attributes from categorical to numerical\n",
        "edge_attr_cat = data.edge_attr.numpy()\n",
        "print(\"Categorical edge attributes:\\n\",edge_attr_cat[:3])\n",
        "\n",
        "edge_attr = []\n",
        "for i in edge_attr_cat:\n",
        "    edge_attr.append(np.nonzero(i)[0][0])\n",
        "\n",
        "print(\"\\n\\nNumerical edge attributes:\\n\",edge_attr[:3])"
      ],
      "metadata": {
        "id": "sVteLh80wY9x",
        "colab": {
          "base_uri": "https://localhost:8080/"
        },
        "outputId": "312a7aef-034f-457b-b883-f275f34582b9"
      },
      "execution_count": 49,
      "outputs": [
        {
          "output_type": "stream",
          "name": "stdout",
          "text": [
            "Categorical edge attributes:\n",
            " [[1. 0. 0.]\n",
            " [1. 0. 0.]\n",
            " [0. 1. 0.]]\n",
            "\n",
            "\n",
            "Numerical edge attributes:\n",
            " [0, 0, 1]\n"
          ]
        }
      ]
    },
    {
      "cell_type": "code",
      "source": [
        "# compute edge embedding\n",
        "\n",
        "edge_embedding = []\n",
        "for u,v in data.edge_index.t():\n",
        "    edge_embedding.append(np.mean([emb_128[u],emb_128[v]],0))"
      ],
      "metadata": {
        "id": "PznrmAxewY6u"
      },
      "execution_count": 50,
      "outputs": []
    },
    {
      "cell_type": "code",
      "source": [],
      "metadata": {
        "id": "0-Dd_YpPrSIU"
      },
      "execution_count": null,
      "outputs": []
    },
    {
      "cell_type": "markdown",
      "source": [
        "visualize edge embedding"
      ],
      "metadata": {
        "id": "3qW1JgwJwe7r"
      }
    },
    {
      "cell_type": "code",
      "source": [
        "import pandas as pd\n",
        "# fit and transform using PCA\n",
        "pca = PCA(n_components=2)\n",
        "edge_emb2d = pca.fit_transform(edge_embedding)\n",
        "\n",
        "\n",
        "\n",
        "df = pd.DataFrame(dict(edge_att=edge_attr))\n",
        "colors = {0:\"red\",1:\"blue\"}\n",
        "plt.title(\"edge embedding in 2D\")\n",
        "plt.scatter(edge_emb2d[:,0],edge_emb2d[:,1],c=df.edge_att.map(colors))\n",
        "plt.show()\n",
        "\n",
        "# not so good but we are using PCA to reduce the dim from 128 to 2"
      ],
      "metadata": {
        "id": "wklDxJiLrSFX",
        "colab": {
          "base_uri": "https://localhost:8080/",
          "height": 281
        },
        "outputId": "5f36da44-818f-4a55-b0ed-290d47557a06"
      },
      "execution_count": 51,
      "outputs": [
        {
          "output_type": "display_data",
          "data": {
            "text/plain": [
              "<Figure size 432x288 with 1 Axes>"
            ],
            "image/png": "[encoded data removed]"
          },
          "metadata": {
            "needs_background": "light"
          }
        }
      ]
    },
    {
      "cell_type": "code",
      "source": [],
      "metadata": {
        "id": "ieo7uiaOwloE"
      },
      "execution_count": null,
      "outputs": []
    },
    {
      "cell_type": "markdown",
      "source": [
        "Use RandomForestClassifier with 10-fold cross validation"
      ],
      "metadata": {
        "id": "OsYno_zbwkzD"
      }
    },
    {
      "cell_type": "code",
      "source": [
        "from sklearn.model_selection import cross_val_score\n",
        "from sklearn.ensemble import RandomForestClassifier"
      ],
      "metadata": {
        "id": "Tu2bADj2rSCj"
      },
      "execution_count": 52,
      "outputs": []
    },
    {
      "cell_type": "code",
      "source": [
        "clf = RandomForestClassifier(max_depth=7,random_state=10)\n",
        "\n",
        "\n",
        "scores = cross_val_score(clf, edge_embedding, edge_attr, cv=10)\n",
        "np.mean(scores)"
      ],
      "metadata": {
        "id": "3X7nx_4Jwm5C",
        "colab": {
          "base_uri": "https://localhost:8080/"
        },
        "outputId": "892ba468-c24a-4416-f5bd-a0dadc461e52"
      },
      "execution_count": 53,
      "outputs": [
        {
          "output_type": "execute_result",
          "data": {
            "text/plain": [
              "0.7227941176470588"
            ]
          },
          "metadata": {},
          "execution_count": 53
        }
      ]
    },
    {
      "cell_type": "markdown",
      "source": [
        "As the result, by using random forest classifier, we can score of 0.72"
      ],
      "metadata": {
        "id": "75wRCawzmy6J"
      }
    }
  ],
  "metadata": {
    "colab": {
      "collapsed_sections": [],
      "provenance": []
    },
    "kernelspec": {
      "display_name": "Python 3",
      "name": "python3"
    },
    "language_info": {
      "name": "python"
    }
  },
  "nbformat": 4,
  "nbformat_minor": 0
}
